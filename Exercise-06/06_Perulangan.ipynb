{
 "cells": [
  {
   "cell_type": "markdown",
   "metadata": {},
   "source": [
    "***\n",
    "<h1 align=\"center\">Exercise 06</h1>\n",
    " \n",
    "***\n",
    "## While Loop\n",
    "## Exercise 6.1\n",
    "isilah bagian rumpang berikut. xx diganti tanggal lahir dan yy diganti menjadi bulan lahir. tandanya menyesuaikan yang lebih besar."
   ]
  },
  {
   "cell_type": "code",
   "execution_count": 19,
   "metadata": {},
   "outputs": [
    {
     "name": "stdout",
     "output_type": "stream",
     "text": [
      "Sopan Santuy\n",
      "Sopan Santuy\n",
      "Sopan Santuy\n",
      "Sopan Santuy\n",
      "Sopan Santuy\n",
      "Sopan Santuy\n",
      "Sopan Santuy\n",
      "Sopan Santuy\n",
      "Sopan Santuy\n",
      "Sopan Santuy\n",
      "Sopan Santuy\n",
      "Sopan Santuy\n",
      "Sopan Santuy\n",
      "Sopan Santuy\n",
      "Sopan Santuy\n",
      "Sopan Santuy\n",
      "Sopan Santuy\n",
      "Sopan Santuy\n",
      "Sopan Santuy\n"
     ]
    }
   ],
   "source": [
    "#menentukan banyak pengulangan\n",
    "n = 26\n",
    "\n",
    "#melakukan pengulangan\n",
    "i = 7\n",
    "\n",
    "while i!=n :\n",
    "    print (\"Sopan Santuy\")\n",
    "    #diisi motto kalian\n",
    "    i = i + 1 # sesuaikan dengan atas agar fungsi perulangan dapat berhenti\n"
   ]
  },
  {
   "cell_type": "markdown",
   "metadata": {},
   "source": [
    "## Exercise 6.2\n",
    "\n",
    "Buatlah code seperti yang dicontohkan pada modul agar user dapat menginputkan sendiri jumlah n yang diinginkan"
   ]
  },
  {
   "cell_type": "code",
   "execution_count": 20,
   "metadata": {},
   "outputs": [
    {
     "name": "stdout",
     "output_type": "stream",
     "text": [
      "yg penting jago maen poker\n",
      "yg penting jago maen poker\n",
      "yg penting jago maen poker\n",
      "yg penting jago maen poker\n",
      "yg penting jago maen poker\n",
      "yg penting jago maen poker\n",
      "yg penting jago maen poker\n"
     ]
    }
   ],
   "source": [
    "#Kerjakan disini\n",
    "#menentukan banyak pengulangan\n",
    "n = int(input(\"masukan jumlah pengulangan\"))\n",
    "\n",
    "#melakukan pengulangan\n",
    "i = 7\n",
    "\n",
    "while i != n :\n",
    "    print (\"yg penting jago maen poker\")\n",
    "    #diisi motto kalian\n",
    "    i = i + 1 # sesuaikan dengan atas agar fungsi perulangan dapat berhenti disini"
   ]
  },
  {
   "cell_type": "markdown",
   "metadata": {},
   "source": [
    "## Excercise 6.3\n",
    "\n",
    "isilah xx, yy, dan tanda rumpang seperti pada exercise 6.1\n"
   ]
  },
  {
   "cell_type": "code",
   "execution_count": 21,
   "metadata": {},
   "outputs": [
    {
     "name": "stdout",
     "output_type": "stream",
     "text": [
      "Baris ke-7 : John Wick\n",
      "Baris ke-8 : John Wick\n",
      "Baris ke-9 : John Wick\n",
      "Baris ke-10 : John Wick\n",
      "Baris ke-11 : John Wick\n",
      "Baris ke-12 : John Wick\n",
      "Baris ke-13 : John Wick\n",
      "Baris ke-14 : John Wick\n",
      "Baris ke-15 : John Wick\n",
      "Baris ke-16 : John Wick\n",
      "Baris ke-17 : John Wick\n",
      "Baris ke-18 : John Wick\n",
      "Baris ke-19 : John Wick\n",
      "Baris ke-20 : John Wick\n",
      "Baris ke-21 : John Wick\n",
      "Baris ke-22 : John Wick\n",
      "Baris ke-23 : John Wick\n",
      "Baris ke-24 : John Wick\n",
      "Baris ke-25 : John Wick\n"
     ]
    }
   ],
   "source": [
    "#melakukan pengulangan\n",
    "i = 7\n",
    "\n",
    "while i != 26 :\n",
    "    print (\"Baris ke-%d : John Wick\"%i)\n",
    "    #isi titik-titik dengan judul film favorit kalian\n",
    "    i = i + 1\n",
    "    "
   ]
  },
  {
   "cell_type": "markdown",
   "metadata": {},
   "source": [
    "## FOR LOOP\n",
    "\n",
    "## Exercise 6.4\n",
    "\n",
    "munculkan 3 dari 7 elemen yang berada di dalam list1 dan list2\n"
   ]
  },
  {
   "cell_type": "code",
   "execution_count": 22,
   "metadata": {},
   "outputs": [
    {
     "name": "stdout",
     "output_type": "stream",
     "text": [
      "5 sarden Tangerang\n",
      "6 lele Kupang\n",
      "7 bebek Manado\n"
     ]
    }
   ],
   "source": [
    "list1 = ['opor', 'gulai', 'seblak', 'cangkalang', 'sarden', 'lele', 'bebek'] #masukkan 7 list makanan favorit kalian\n",
    "list2 = ['Jakarta', 'Batam', 'Padang', 'Medan', 'Tangerang', 'Kupang', 'Manado'] #masukkan 7 list kota favorit kalian\n",
    "\n",
    "for i in range(4,7) :\n",
    "    print(i+1, list1[i] , list2[i])"
   ]
  },
  {
   "cell_type": "markdown",
   "metadata": {},
   "source": [
    "## Perulangan Bersarang\n",
    "\n",
    "## Exercise 6.5"
   ]
  },
  {
   "cell_type": "code",
   "execution_count": 23,
   "metadata": {},
   "outputs": [],
   "source": [
    "i = 26\n",
    "while i <= 7:\n",
    "    j = 26\n",
    "    if j<=i:\n",
    "        print(\"%d \" % (i*j), end = '')\n",
    "        j = j + 1\n",
    "    print()\n",
    "    i+=1"
   ]
  },
  {
   "cell_type": "markdown",
   "metadata": {},
   "source": [
    "## Pernyataan Loncat\n",
    "\n",
    "## Exercise 6.\n",
    "\n",
    "Buatlah fungsi berikut agar muncul angka hingga berhenti sesuai dengan nilai qq\n",
    "qq = angka favorit kalian\n",
    "pp>qq"
   ]
  },
  {
   "cell_type": "code",
   "execution_count": 24,
   "metadata": {},
   "outputs": [
    {
     "name": "stdout",
     "output_type": "stream",
     "text": [
      "0123456789101112131415161718192021222324252627282930313233343536373839404142434445464748495051525354555657585960616263646566676869707172737475767778798081828384858687888990919293949596979899100101102103104105106107108109110111112113114115116117118119120121122123124125126127128129130131132133134135136137138139140141142143144145146147148149150151152153154155156157158159160161162163164165166167168169170171172173174175176177178179180181182183184185186187188189190191192193194195196197198199200201202203204205206207208209210211212213214215216217218219220221222223224225226227228229230231232233234235236237238239240241242243244245246247248249250251252253254255256257258259260261262263264265266267268269270271272273274275276277278279280281282283284285286287288289290291292293294295296297298299300301302303304305306307308309310311312313314315316317318319320321"
     ]
    }
   ],
   "source": [
    "for i in range(400):\n",
    "    print(i,end='')\n",
    "    if i == 321:\n",
    "        break"
   ]
  },
  {
   "cell_type": "markdown",
   "metadata": {},
   "source": [
    "***\n",
    "<h1 align=\"center\">WELL DONE</h1>\n",
    " \n",
    "***"
   ]
  }
 ],
 "metadata": {
  "interpreter": {
   "hash": "cd08f94adcf3cbae37fe85286256f4c2a10455ca9094fd053e9f3d3f09647223"
  },
  "kernelspec": {
   "display_name": "Python 3.9.7 64-bit",
   "language": "python",
   "name": "python3"
  },
  "language_info": {
   "codemirror_mode": {
    "name": "ipython",
    "version": 3
   },
   "file_extension": ".py",
   "mimetype": "text/x-python",
   "name": "python",
   "nbconvert_exporter": "python",
   "pygments_lexer": "ipython3",
   "version": "3.9.12"
  },
  "orig_nbformat": 4
 },
 "nbformat": 4,
 "nbformat_minor": 2
}
